{
  "cells": [
    {
      "cell_type": "markdown",
      "metadata": {
        "id": "NeYyTiX9KR76"
      },
      "source": [
        "S31 (3L). Para los usuarios que tengan más de 100 reviews registradas, ¿cuál es el user_id cuya mediana del tiempo entre reviews es menor?"
      ]
    },
    {
      "cell_type": "markdown",
      "source": [
        "# Carga de archivos\n"
      ],
      "metadata": {
        "id": "oR262yaT6ZT4"
      }
    },
    {
      "cell_type": "code",
      "execution_count": null,
      "metadata": {
        "colab": {
          "base_uri": "https://localhost:8080/"
        },
        "id": "Mt8e0YwrsmZV",
        "outputId": "d5b31cc5-bff3-4409-f07f-f20fd7a9bcac"
      },
      "outputs": [
        {
          "output_type": "stream",
          "name": "stdout",
          "text": [
            "Looking in indexes: https://pypi.org/simple, https://us-python.pkg.dev/colab-wheels/public/simple/\n",
            "Collecting pyspark\n",
            "  Downloading pyspark-3.2.1.tar.gz (281.4 MB)\n",
            "\u001b[K     |████████████████████████████████| 281.4 MB 34 kB/s \n",
            "\u001b[?25hCollecting py4j==0.10.9.3\n",
            "  Downloading py4j-0.10.9.3-py2.py3-none-any.whl (198 kB)\n",
            "\u001b[K     |████████████████████████████████| 198 kB 64.4 MB/s \n",
            "\u001b[?25hBuilding wheels for collected packages: pyspark\n",
            "  Building wheel for pyspark (setup.py) ... \u001b[?25l\u001b[?25hdone\n",
            "  Created wheel for pyspark: filename=pyspark-3.2.1-py2.py3-none-any.whl size=281853642 sha256=933315d0d08e0dfbb9074e9e034332411afd4865ec4f89c8b910f472e6347e0d\n",
            "  Stored in directory: /root/.cache/pip/wheels/9f/f5/07/7cd8017084dce4e93e84e92efd1e1d5334db05f2e83bcef74f\n",
            "Successfully built pyspark\n",
            "Installing collected packages: py4j, pyspark\n",
            "Successfully installed py4j-0.10.9.3 pyspark-3.2.1\n"
          ]
        }
      ],
      "source": [
        "!pip install pyspark\n",
        "!pip install -U -q PyDrive"
      ]
    },
    {
      "cell_type": "code",
      "execution_count": null,
      "metadata": {
        "colab": {
          "base_uri": "https://localhost:8080/"
        },
        "id": "0lEDmysOwAIy",
        "outputId": "19713981-7f3c-4685-b337-b57ecdd307d3"
      },
      "outputs": [
        {
          "output_type": "stream",
          "name": "stdout",
          "text": [
            "The following package was automatically installed and is no longer required:\n",
            "  libnvidia-common-460\n",
            "Use 'apt autoremove' to remove it.\n",
            "The following additional packages will be installed:\n",
            "  openjdk-8-jre-headless\n",
            "Suggested packages:\n",
            "  openjdk-8-demo openjdk-8-source libnss-mdns fonts-dejavu-extra\n",
            "  fonts-ipafont-gothic fonts-ipafont-mincho fonts-wqy-microhei\n",
            "  fonts-wqy-zenhei fonts-indic\n",
            "The following NEW packages will be installed:\n",
            "  openjdk-8-jdk-headless openjdk-8-jre-headless\n",
            "0 upgraded, 2 newly installed, 0 to remove and 42 not upgraded.\n",
            "Need to get 36.5 MB of archives.\n",
            "After this operation, 143 MB of additional disk space will be used.\n",
            "Selecting previously unselected package openjdk-8-jre-headless:amd64.\n",
            "(Reading database ... 155629 files and directories currently installed.)\n",
            "Preparing to unpack .../openjdk-8-jre-headless_8u312-b07-0ubuntu1~18.04_amd64.deb ...\n",
            "Unpacking openjdk-8-jre-headless:amd64 (8u312-b07-0ubuntu1~18.04) ...\n",
            "Selecting previously unselected package openjdk-8-jdk-headless:amd64.\n",
            "Preparing to unpack .../openjdk-8-jdk-headless_8u312-b07-0ubuntu1~18.04_amd64.deb ...\n",
            "Unpacking openjdk-8-jdk-headless:amd64 (8u312-b07-0ubuntu1~18.04) ...\n",
            "Setting up openjdk-8-jre-headless:amd64 (8u312-b07-0ubuntu1~18.04) ...\n",
            "update-alternatives: using /usr/lib/jvm/java-8-openjdk-amd64/jre/bin/orbd to provide /usr/bin/orbd (orbd) in auto mode\n",
            "update-alternatives: using /usr/lib/jvm/java-8-openjdk-amd64/jre/bin/servertool to provide /usr/bin/servertool (servertool) in auto mode\n",
            "update-alternatives: using /usr/lib/jvm/java-8-openjdk-amd64/jre/bin/tnameserv to provide /usr/bin/tnameserv (tnameserv) in auto mode\n",
            "Setting up openjdk-8-jdk-headless:amd64 (8u312-b07-0ubuntu1~18.04) ...\n",
            "update-alternatives: using /usr/lib/jvm/java-8-openjdk-amd64/bin/idlj to provide /usr/bin/idlj (idlj) in auto mode\n",
            "update-alternatives: using /usr/lib/jvm/java-8-openjdk-amd64/bin/wsimport to provide /usr/bin/wsimport (wsimport) in auto mode\n",
            "update-alternatives: using /usr/lib/jvm/java-8-openjdk-amd64/bin/jsadebugd to provide /usr/bin/jsadebugd (jsadebugd) in auto mode\n",
            "update-alternatives: using /usr/lib/jvm/java-8-openjdk-amd64/bin/native2ascii to provide /usr/bin/native2ascii (native2ascii) in auto mode\n",
            "update-alternatives: using /usr/lib/jvm/java-8-openjdk-amd64/bin/javah to provide /usr/bin/javah (javah) in auto mode\n",
            "update-alternatives: using /usr/lib/jvm/java-8-openjdk-amd64/bin/hsdb to provide /usr/bin/hsdb (hsdb) in auto mode\n",
            "update-alternatives: using /usr/lib/jvm/java-8-openjdk-amd64/bin/clhsdb to provide /usr/bin/clhsdb (clhsdb) in auto mode\n",
            "update-alternatives: using /usr/lib/jvm/java-8-openjdk-amd64/bin/xjc to provide /usr/bin/xjc (xjc) in auto mode\n",
            "update-alternatives: using /usr/lib/jvm/java-8-openjdk-amd64/bin/schemagen to provide /usr/bin/schemagen (schemagen) in auto mode\n",
            "update-alternatives: using /usr/lib/jvm/java-8-openjdk-amd64/bin/extcheck to provide /usr/bin/extcheck (extcheck) in auto mode\n",
            "update-alternatives: using /usr/lib/jvm/java-8-openjdk-amd64/bin/jhat to provide /usr/bin/jhat (jhat) in auto mode\n",
            "update-alternatives: using /usr/lib/jvm/java-8-openjdk-amd64/bin/wsgen to provide /usr/bin/wsgen (wsgen) in auto mode\n"
          ]
        }
      ],
      "source": [
        "!apt install openjdk-8-jdk-headless -qq"
      ]
    },
    {
      "cell_type": "code",
      "execution_count": null,
      "metadata": {
        "id": "awCmhuwfs39l"
      },
      "outputs": [],
      "source": [
        "import os\n",
        "os.environ[\"JAVA_HOME\"] = \"/usr/lib/jvm/java-8-openjdk-amd64\""
      ]
    },
    {
      "cell_type": "code",
      "execution_count": null,
      "metadata": {
        "id": "zWtZpVK6s78m"
      },
      "outputs": [],
      "source": [
        "from pydrive.auth import GoogleAuth\n",
        "from pydrive.drive import GoogleDrive\n",
        "from google.colab import auth\n",
        "from oauth2client.client import GoogleCredentials\n",
        "from pyspark.sql import *\n",
        "from pyspark.sql.functions import *\n",
        "from pyspark import SparkContext\n",
        "from pyspark.sql import SQLContext\n",
        "from datetime import datetime as dt\n",
        "import time"
      ]
    },
    {
      "cell_type": "code",
      "execution_count": null,
      "metadata": {
        "id": "e0j-OlJus_Pe"
      },
      "outputs": [],
      "source": [
        "auth.authenticate_user()\n",
        "gauth = GoogleAuth()\n",
        "gauth.credentials = GoogleCredentials.get_application_default()\n",
        "drive = GoogleDrive(gauth)"
      ]
    },
    {
      "cell_type": "code",
      "execution_count": null,
      "metadata": {
        "id": "tovDU93MtWAj"
      },
      "outputs": [],
      "source": [
        "downloaded = drive.CreateFile({'id':\"1Unn0g_Kw2aEpvrmqJGBrrki9_YzWsEJG\"})   # replace the id with id of file you want to access\n",
        "downloaded.GetContentFile('review.csv') "
      ]
    },
    {
      "cell_type": "code",
      "execution_count": null,
      "metadata": {
        "id": "LJOYzM2Ztpd0"
      },
      "outputs": [],
      "source": [
        "# create the Spark Session\n",
        "spark = SparkSession.builder.getOrCreate()\n",
        "\n",
        "# create the Spark Context\n",
        "sc = spark.sparkContext"
      ]
    },
    {
      "cell_type": "code",
      "execution_count": null,
      "metadata": {
        "id": "UR4b_Ng02kQk",
        "colab": {
          "base_uri": "https://localhost:8080/"
        },
        "outputId": "1cffbfbf-7369-4947-9b61-9b4bcd618a7c"
      },
      "outputs": [
        {
          "output_type": "stream",
          "name": "stderr",
          "text": [
            "/usr/local/lib/python3.7/dist-packages/pyspark/sql/context.py:79: FutureWarning: Deprecated in 3.0.0. Use SparkSession.builder.getOrCreate() instead.\n",
            "  FutureWarning\n"
          ]
        }
      ],
      "source": [
        "sqlContext = SQLContext(sc)\n",
        "dfReview = (spark.read\\\n",
        "      .option(\"multiline\", \"true\")\\\n",
        "      .option(\"quote\", '\"')\\\n",
        "      .option(\"header\", \"true\")\\\n",
        "      .option(\"escape\", \"\\\\\")\\\n",
        "      .option(\"escape\", '\"')\\\n",
        "      .csv('review.csv'))\\\n",
        "      .select(['user_id', 'date'])\\\n",
        "      .dropna()\n",
        "rddReview = dfReview.rdd"
      ]
    },
    {
      "cell_type": "markdown",
      "metadata": {
        "id": "VEC8UVk_LiON"
      },
      "source": [
        "primero filtro para los usuarios +100 reviews"
      ]
    },
    {
      "cell_type": "markdown",
      "source": [
        "# Calculo"
      ],
      "metadata": {
        "id": "LuXhwDVJ6gmS"
      }
    },
    {
      "cell_type": "code",
      "source": [
        "# pequeña funcion que devuelve el timestamp del formato del csv\n",
        "def timestamp(string):\n",
        "    return time.mktime(time.strptime(string, '%Y-%m-%d %H:%M:%S'))"
      ],
      "metadata": {
        "id": "RpbrApmKlMNz"
      },
      "execution_count": null,
      "outputs": []
    },
    {
      "cell_type": "markdown",
      "source": [
        "Lo primero que hago es mapear un RDD del estilo (user_id, [ts]), con un reduceByKey sumo las listas y por ultimo filtro los user id que no cumplen que el largo de la lista es mayor a 100 (100 reviews) "
      ],
      "metadata": {
        "id": "iFxWK5Zq3p-C"
      }
    },
    {
      "cell_type": "code",
      "source": [
        "most100 = rddReview.map(lambda x: (x[0],[ timestamp(x[1]) ]))\\\n",
        "                   .reduceByKey(lambda x,y : x + y)\\\n",
        "                   .filter(lambda x: (len(x[1]) > 100))\n"
      ],
      "metadata": {
        "id": "LkVzSIzxOtQk"
      },
      "execution_count": null,
      "outputs": []
    },
    {
      "cell_type": "markdown",
      "source": [
        "Aca lo que hago es ordenar cada timestamp de cada user_id para ordenarlos cronologicamente, luego hago otro map para con un for calcular las distancias entre todas las reviews (1ra-2da, 2da-3ra, 3ra-4ta .....) , y una vez que tengo esto lo reordeno"
      ],
      "metadata": {
        "id": "1WDPiZKh56Nb"
      }
    },
    {
      "cell_type": "code",
      "source": [
        "distancesSorted = most100.map(lambda x: (x[0], sorted(x[1])))\\\n",
        "                         .map(lambda x: (x[0], [x[1][i+1] - x[1][i] for i in range(len(x[1]) - 1)]))\\\n",
        "                         .map(lambda x: (x[0], sorted(x[1])))"
      ],
      "metadata": {
        "id": "zYJbHK77v6w1"
      },
      "execution_count": null,
      "outputs": []
    },
    {
      "cell_type": "markdown",
      "source": [
        "Como tengo las distancias entre reviews ordenadas, con acceder al elemento n/2 de la lista estoy accediendo a la mediana, asi que hago un map para obtener ese numero, por ultimo, con un reduce obtengo el user_id"
      ],
      "metadata": {
        "id": "yRdRIvtG6cMU"
      }
    },
    {
      "cell_type": "code",
      "source": [
        "medianMin = distancesSorted.map(lambda x: (x[0], x[1][int(len(x[1])/ 2)]))\\\n",
        "                           .reduce(lambda x,y: x if x[1]<y[1] else y)\n",
        "medianMin"
      ],
      "metadata": {
        "id": "9WEX4nsuoDs-",
        "colab": {
          "base_uri": "https://localhost:8080/"
        },
        "outputId": "7ed9f00c-e220-4ef4-ff18-e408ace5c0d4"
      },
      "execution_count": null,
      "outputs": [
        {
          "output_type": "execute_result",
          "data": {
            "text/plain": [
              "('bQCHF5rn5lMI9c5kEwCaNA', 26.0)"
            ]
          },
          "metadata": {},
          "execution_count": 12
        }
      ]
    }
  ],
  "metadata": {
    "colab": {
      "name": "S31.ipynb",
      "provenance": [],
      "collapsed_sections": [],
      "toc_visible": true
    },
    "kernelspec": {
      "display_name": "Python 3",
      "name": "python3"
    },
    "language_info": {
      "name": "python"
    }
  },
  "nbformat": 4,
  "nbformat_minor": 0
}