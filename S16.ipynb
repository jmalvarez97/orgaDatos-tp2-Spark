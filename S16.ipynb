{
  "cells": [
    {
      "cell_type": "markdown",
      "metadata": {
        "id": "f_G7WPKmwsnJ"
      },
      "source": [
        "S16 (). ¿Cuál es el usuario más quejumbroso por estado? Consideramos quejumbroso a un usuario que tiene más de 5 reviews y son todas de 2 estrellas o menos."
      ]
    },
    {
      "cell_type": "markdown",
      "source": [
        "# Carga de archivos\n"
      ],
      "metadata": {
        "id": "oR262yaT6ZT4"
      }
    },
    {
      "cell_type": "code",
      "execution_count": null,
      "metadata": {
        "colab": {
          "base_uri": "https://localhost:8080/"
        },
        "id": "Mt8e0YwrsmZV",
        "outputId": "7cc244e3-7803-4ca3-c0b2-1b35a7125d64"
      },
      "outputs": [
        {
          "output_type": "stream",
          "name": "stdout",
          "text": [
            "Looking in indexes: https://pypi.org/simple, https://us-python.pkg.dev/colab-wheels/public/simple/\n",
            "Collecting pyspark\n",
            "  Downloading pyspark-3.2.1.tar.gz (281.4 MB)\n",
            "\u001b[K     |████████████████████████████████| 281.4 MB 33 kB/s \n",
            "\u001b[?25hCollecting py4j==0.10.9.3\n",
            "  Downloading py4j-0.10.9.3-py2.py3-none-any.whl (198 kB)\n",
            "\u001b[K     |████████████████████████████████| 198 kB 52.7 MB/s \n",
            "\u001b[?25hBuilding wheels for collected packages: pyspark\n",
            "  Building wheel for pyspark (setup.py) ... \u001b[?25l\u001b[?25hdone\n",
            "  Created wheel for pyspark: filename=pyspark-3.2.1-py2.py3-none-any.whl size=281853642 sha256=1f5d423b4700284557eefd468252ec977ad0d0455e298b9854a2f6aca151a7e4\n",
            "  Stored in directory: /root/.cache/pip/wheels/9f/f5/07/7cd8017084dce4e93e84e92efd1e1d5334db05f2e83bcef74f\n",
            "Successfully built pyspark\n",
            "Installing collected packages: py4j, pyspark\n",
            "Successfully installed py4j-0.10.9.3 pyspark-3.2.1\n"
          ]
        }
      ],
      "source": [
        "!pip install pyspark\n",
        "!pip install -U -q PyDrive"
      ]
    },
    {
      "cell_type": "code",
      "execution_count": null,
      "metadata": {
        "colab": {
          "base_uri": "https://localhost:8080/"
        },
        "id": "0lEDmysOwAIy",
        "outputId": "0d232a60-f5fd-47d7-e8ae-2daef96950ea"
      },
      "outputs": [
        {
          "output_type": "stream",
          "name": "stdout",
          "text": [
            "The following package was automatically installed and is no longer required:\n",
            "  libnvidia-common-460\n",
            "Use 'apt autoremove' to remove it.\n",
            "The following additional packages will be installed:\n",
            "  openjdk-8-jre-headless\n",
            "Suggested packages:\n",
            "  openjdk-8-demo openjdk-8-source libnss-mdns fonts-dejavu-extra\n",
            "  fonts-ipafont-gothic fonts-ipafont-mincho fonts-wqy-microhei\n",
            "  fonts-wqy-zenhei fonts-indic\n",
            "The following NEW packages will be installed:\n",
            "  openjdk-8-jdk-headless openjdk-8-jre-headless\n",
            "0 upgraded, 2 newly installed, 0 to remove and 42 not upgraded.\n",
            "Need to get 36.5 MB of archives.\n",
            "After this operation, 143 MB of additional disk space will be used.\n",
            "Selecting previously unselected package openjdk-8-jre-headless:amd64.\n",
            "(Reading database ... 155629 files and directories currently installed.)\n",
            "Preparing to unpack .../openjdk-8-jre-headless_8u312-b07-0ubuntu1~18.04_amd64.deb ...\n",
            "Unpacking openjdk-8-jre-headless:amd64 (8u312-b07-0ubuntu1~18.04) ...\n",
            "Selecting previously unselected package openjdk-8-jdk-headless:amd64.\n",
            "Preparing to unpack .../openjdk-8-jdk-headless_8u312-b07-0ubuntu1~18.04_amd64.deb ...\n",
            "Unpacking openjdk-8-jdk-headless:amd64 (8u312-b07-0ubuntu1~18.04) ...\n",
            "Setting up openjdk-8-jre-headless:amd64 (8u312-b07-0ubuntu1~18.04) ...\n",
            "update-alternatives: using /usr/lib/jvm/java-8-openjdk-amd64/jre/bin/orbd to provide /usr/bin/orbd (orbd) in auto mode\n",
            "update-alternatives: using /usr/lib/jvm/java-8-openjdk-amd64/jre/bin/servertool to provide /usr/bin/servertool (servertool) in auto mode\n",
            "update-alternatives: using /usr/lib/jvm/java-8-openjdk-amd64/jre/bin/tnameserv to provide /usr/bin/tnameserv (tnameserv) in auto mode\n",
            "Setting up openjdk-8-jdk-headless:amd64 (8u312-b07-0ubuntu1~18.04) ...\n",
            "update-alternatives: using /usr/lib/jvm/java-8-openjdk-amd64/bin/idlj to provide /usr/bin/idlj (idlj) in auto mode\n",
            "update-alternatives: using /usr/lib/jvm/java-8-openjdk-amd64/bin/wsimport to provide /usr/bin/wsimport (wsimport) in auto mode\n",
            "update-alternatives: using /usr/lib/jvm/java-8-openjdk-amd64/bin/jsadebugd to provide /usr/bin/jsadebugd (jsadebugd) in auto mode\n",
            "update-alternatives: using /usr/lib/jvm/java-8-openjdk-amd64/bin/native2ascii to provide /usr/bin/native2ascii (native2ascii) in auto mode\n",
            "update-alternatives: using /usr/lib/jvm/java-8-openjdk-amd64/bin/javah to provide /usr/bin/javah (javah) in auto mode\n",
            "update-alternatives: using /usr/lib/jvm/java-8-openjdk-amd64/bin/hsdb to provide /usr/bin/hsdb (hsdb) in auto mode\n",
            "update-alternatives: using /usr/lib/jvm/java-8-openjdk-amd64/bin/clhsdb to provide /usr/bin/clhsdb (clhsdb) in auto mode\n",
            "update-alternatives: using /usr/lib/jvm/java-8-openjdk-amd64/bin/xjc to provide /usr/bin/xjc (xjc) in auto mode\n",
            "update-alternatives: using /usr/lib/jvm/java-8-openjdk-amd64/bin/schemagen to provide /usr/bin/schemagen (schemagen) in auto mode\n",
            "update-alternatives: using /usr/lib/jvm/java-8-openjdk-amd64/bin/extcheck to provide /usr/bin/extcheck (extcheck) in auto mode\n",
            "update-alternatives: using /usr/lib/jvm/java-8-openjdk-amd64/bin/jhat to provide /usr/bin/jhat (jhat) in auto mode\n",
            "update-alternatives: using /usr/lib/jvm/java-8-openjdk-amd64/bin/wsgen to provide /usr/bin/wsgen (wsgen) in auto mode\n"
          ]
        }
      ],
      "source": [
        "!apt install openjdk-8-jdk-headless -qq"
      ]
    },
    {
      "cell_type": "code",
      "execution_count": null,
      "metadata": {
        "id": "awCmhuwfs39l"
      },
      "outputs": [],
      "source": [
        "import os\n",
        "os.environ[\"JAVA_HOME\"] = \"/usr/lib/jvm/java-8-openjdk-amd64\""
      ]
    },
    {
      "cell_type": "code",
      "execution_count": null,
      "metadata": {
        "id": "zWtZpVK6s78m"
      },
      "outputs": [],
      "source": [
        "from pydrive.auth import GoogleAuth\n",
        "from pydrive.drive import GoogleDrive\n",
        "from google.colab import auth\n",
        "from oauth2client.client import GoogleCredentials\n",
        "from pyspark.sql import *\n",
        "from pyspark.sql.functions import *\n",
        "from pyspark import SparkContext\n",
        "from pyspark.sql import SQLContext\n",
        "from datetime import datetime as dt"
      ]
    },
    {
      "cell_type": "code",
      "execution_count": null,
      "metadata": {
        "id": "e0j-OlJus_Pe"
      },
      "outputs": [],
      "source": [
        "auth.authenticate_user()\n",
        "gauth = GoogleAuth()\n",
        "gauth.credentials = GoogleCredentials.get_application_default()\n",
        "drive = GoogleDrive(gauth)"
      ]
    },
    {
      "cell_type": "code",
      "source": [
        "downloaded = drive.CreateFile({'id':\"1Unn0g_Kw2aEpvrmqJGBrrki9_YzWsEJG\"})   # replace the id with id of file you want to access\n",
        "downloaded.GetContentFile('review.csv') "
      ],
      "metadata": {
        "id": "tovDU93MtWAj"
      },
      "execution_count": null,
      "outputs": []
    },
    {
      "cell_type": "code",
      "source": [
        "downloaded = drive.CreateFile({'id':\"14sjAJe8wBi7N_1xxJFCm7Mtzrm_gFiPj\"})   # replace the id with id of file you want to access\n",
        "downloaded.GetContentFile('business.csv') "
      ],
      "metadata": {
        "id": "yPnP0YRbxW1d"
      },
      "execution_count": null,
      "outputs": []
    },
    {
      "cell_type": "code",
      "source": [
        "# create the Spark Session\n",
        "spark = SparkSession.builder.getOrCreate()\n",
        "\n",
        "# create the Spark Context\n",
        "sc = spark.sparkContext"
      ],
      "metadata": {
        "id": "LJOYzM2Ztpd0"
      },
      "execution_count": null,
      "outputs": []
    },
    {
      "cell_type": "code",
      "source": [
        "sqlContext = SQLContext(sc)\n",
        "dfReview = (spark.read\\\n",
        "      .option(\"multiline\", \"true\")\\\n",
        "      .option(\"quote\", '\"')\\\n",
        "      .option(\"header\", \"true\")\\\n",
        "      .option(\"escape\", \"\\\\\")\\\n",
        "      .option(\"escape\", '\"')\\\n",
        "      .csv('review.csv'))\\\n",
        "      .select(['business_id', 'user_id', 'stars'])\\\n",
        "      .dropna()\n",
        "rddReview = dfReview.rdd"
      ],
      "metadata": {
        "colab": {
          "base_uri": "https://localhost:8080/"
        },
        "id": "UR4b_Ng02kQk",
        "outputId": "8c972c6b-8bb6-4d3c-c908-38ca6b8f792d"
      },
      "execution_count": null,
      "outputs": [
        {
          "output_type": "stream",
          "name": "stderr",
          "text": [
            "/usr/local/lib/python3.7/dist-packages/pyspark/sql/context.py:79: FutureWarning: Deprecated in 3.0.0. Use SparkSession.builder.getOrCreate() instead.\n",
            "  FutureWarning\n"
          ]
        }
      ]
    },
    {
      "cell_type": "code",
      "source": [
        "sqlContext = SQLContext(sc)\n",
        "dfBusiness = (spark.read\\\n",
        "      .option(\"multiline\", \"true\")\\\n",
        "      .option(\"quote\", '\"')\\\n",
        "      .option(\"header\", \"true\")\\\n",
        "      .option(\"escape\", \"\\\\\")\\\n",
        "      .option(\"escape\", '\"')\\\n",
        "      .csv('business.csv'))\\\n",
        "      .select(['business_id', 'state'])\\\n",
        "      .dropna()\n",
        "rddBusiness = dfBusiness.rdd"
      ],
      "metadata": {
        "colab": {
          "base_uri": "https://localhost:8080/"
        },
        "id": "4Ey8C8Zuxt0K",
        "outputId": "8b21d107-47b7-4cf5-9c7d-ce43e6c5d67b"
      },
      "execution_count": null,
      "outputs": [
        {
          "output_type": "stream",
          "name": "stderr",
          "text": [
            "/usr/local/lib/python3.7/dist-packages/pyspark/sql/context.py:79: FutureWarning: Deprecated in 3.0.0. Use SparkSession.builder.getOrCreate() instead.\n",
            "  FutureWarning\n"
          ]
        }
      ]
    },
    {
      "cell_type": "markdown",
      "metadata": {
        "id": "FL2Dzd0Nqnob"
      },
      "source": [
        "# Calculo"
      ]
    },
    {
      "cell_type": "code",
      "execution_count": null,
      "metadata": {
        "id": "RJn8Rvn-CUfy"
      },
      "outputs": [],
      "source": [
        "rddB = rddBusiness.map(lambda x: (x[0], x[1])) #(business_id, state)\n"
      ]
    },
    {
      "cell_type": "markdown",
      "source": [
        "Lo que hago aca es:\\\n",
        "1 - hago un map para cada review donde pongo como clave el user_id y valores una lista [boolean, 1, [business_id]] donde el boolean es True o false segun si la votacion no supera las 3 estrellas\n",
        "\n",
        "2- en el reduceByKey lo que hago es, para el booleano le aplico and para ver si todas las votaciones son menores a 3, el 1 lo sumo para obtener las n reviews del user, y el business_id lo sumo para generar una lista de business_id\n",
        "\n",
        "3- filtro para asegurarme que todas las reviews son menores a 3 y ademas me fijo que tenga mas de 5\n",
        "\n"
      ],
      "metadata": {
        "id": "Cfv9r5_Y0gRy"
      }
    },
    {
      "cell_type": "code",
      "source": [
        "usersQuejosos = rddReview.map(lambda x: (x[1], [True, 1, [x[0]]]) if float(x[2]) < 3 else (x[1], [False, 1, [x[0]]]))\\\n",
        "                .reduceByKey(lambda x,y: [x[0] and y[0], x[1]+y[1], x[2]+y[2]] )\\\n",
        "                .filter(lambda x: x[1][0] and (x[1][1] > 5 ) )"
      ],
      "metadata": {
        "id": "d-It-IlBec5e"
      },
      "execution_count": null,
      "outputs": []
    },
    {
      "cell_type": "markdown",
      "source": [
        "Aca lo que hago es hacer un flatmap para obtener como keys los business id, y como values el user_id"
      ],
      "metadata": {
        "id": "qHOTU4xNlPrD"
      }
    },
    {
      "cell_type": "code",
      "source": [
        "negociosMalVotados = usersQuejosos.flatMap(lambda x:  [(business,[x[0],x[1][1]]) for business in x[1][2] ])"
      ],
      "metadata": {
        "id": "Dl5MORlpi_jE"
      },
      "execution_count": null,
      "outputs": []
    },
    {
      "cell_type": "markdown",
      "source": [
        "Hago esto para poder joinear y asi obtener el estado de que es cada negocio, una vez hecho el join, lo remapeo para que la key sea el estado, y los valores el user_id, y la sumatoria de reviews"
      ],
      "metadata": {
        "id": "kzNLsVj1qJwV"
      }
    },
    {
      "cell_type": "code",
      "execution_count": null,
      "metadata": {
        "id": "lnbZ4KrQh4AR"
      },
      "outputs": [],
      "source": [
        "joined = rddB.join(negociosMalVotados)            "
      ]
    },
    {
      "cell_type": "markdown",
      "source": [
        "Por ultimo hago un reduceByKey para obtener los maximos de cada key (estado)"
      ],
      "metadata": {
        "id": "QYkaAH12qfnz"
      }
    },
    {
      "cell_type": "code",
      "source": [
        "masQuejumbrosos = joined.map(lambda x: (x[1][0], [x[1][1][0], x[1][1][1]]))\\\n",
        "                        .reduceByKey(lambda x,y: x if x[1]>y[1] else y)"
      ],
      "metadata": {
        "id": "sVidJ6CpBUGY"
      },
      "execution_count": null,
      "outputs": []
    },
    {
      "cell_type": "markdown",
      "source": [
        "Con un collect muestro todos los rdd (puedo usar collect porque se que en el peor de los casos son 50 estados)"
      ],
      "metadata": {
        "id": "MAbtJpC0rHbi"
      }
    },
    {
      "cell_type": "code",
      "source": [
        "masQuejumbrosos.collect()"
      ],
      "metadata": {
        "colab": {
          "base_uri": "https://localhost:8080/"
        },
        "id": "nYdRMyB9Clwg",
        "outputId": "0885d1f4-d3c4-4a67-f6d8-b00b262d4e74"
      },
      "execution_count": null,
      "outputs": [
        {
          "output_type": "execute_result",
          "data": {
            "text/plain": [
              "[('MO', ['_HGW2i7EdvkKH04JtByGFQ', 32]),\n",
              " ('TN', ['HYKIOKPr2KQbk-72V4ANVg', 21]),\n",
              " ('LA', ['J3hkjFPnMIPHQe_PuSJ36Q', 16]),\n",
              " ('CA', ['gSbWYsI9D_CLUsheOo_ttw', 10]),\n",
              " ('DE', ['T3oldmX-JGVMql9GjEAEMg', 23]),\n",
              " ('PA', ['ttyzgc93vTrwIYoDY0UmXw', 24]),\n",
              " ('FL', ['2uyyLfTPfF9vckrg5SHS6g', 32]),\n",
              " ('IN', ['CLg0CzbxOK1qfvzG6rP_Zg', 13]),\n",
              " ('NV', ['8eVcgYY-gMJDKODwn2lSZw', 22]),\n",
              " ('AZ', ['qpmzZ5G7x-IMSTb2VYeJ_Q', 28]),\n",
              " ('NJ', ['h_kxXndPx1jLV9P4WzekTA', 15]),\n",
              " ('ID', ['KBSglJcN61YIWleS04TJtQ', 14]),\n",
              " ('IL', ['_HGW2i7EdvkKH04JtByGFQ', 32]),\n",
              " ('AB', ['A2KEoDZ7qqO_SDImvoFJrw', 9])]"
            ]
          },
          "metadata": {},
          "execution_count": 16
        }
      ]
    }
  ],
  "metadata": {
    "colab": {
      "collapsed_sections": [],
      "name": "S16.ipynb",
      "provenance": []
    },
    "kernelspec": {
      "display_name": "Python 3",
      "name": "python3"
    },
    "language_info": {
      "name": "python"
    }
  },
  "nbformat": 4,
  "nbformat_minor": 0
}