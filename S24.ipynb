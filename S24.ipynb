{
  "nbformat": 4,
  "nbformat_minor": 0,
  "metadata": {
    "colab": {
      "name": "S24.ipynb",
      "provenance": [],
      "collapsed_sections": [],
      "toc_visible": true
    },
    "kernelspec": {
      "name": "python3",
      "display_name": "Python 3"
    },
    "language_info": {
      "name": "python"
    }
  },
  "cells": [
    {
      "cell_type": "markdown",
      "source": [
        "S24 (). La 3-upla de palabras (no letras) más común en los comentarios de los tips. De ser necesario, se puede utilizar un sample y no la totalidad de datos."
      ],
      "metadata": {
        "id": "KP9CefCv2BLV"
      }
    },
    {
      "cell_type": "markdown",
      "source": [
        "# Carga de archivos"
      ],
      "metadata": {
        "id": "4OeMzMje27eX"
      }
    },
    {
      "cell_type": "code",
      "execution_count": null,
      "metadata": {
        "colab": {
          "base_uri": "https://localhost:8080/"
        },
        "id": "Mt8e0YwrsmZV",
        "outputId": "b7e9ca38-c990-4c2f-cc54-12c8333cb77c"
      },
      "outputs": [
        {
          "output_type": "stream",
          "name": "stdout",
          "text": [
            "Looking in indexes: https://pypi.org/simple, https://us-python.pkg.dev/colab-wheels/public/simple/\n",
            "Requirement already satisfied: pyspark in /usr/local/lib/python3.7/dist-packages (3.2.1)\n",
            "Requirement already satisfied: py4j==0.10.9.3 in /usr/local/lib/python3.7/dist-packages (from pyspark) (0.10.9.3)\n"
          ]
        }
      ],
      "source": [
        "!pip install pyspark\n",
        "!pip install -U -q PyDrive"
      ]
    },
    {
      "cell_type": "code",
      "source": [
        "!apt install openjdk-8-jdk-headless -qq"
      ],
      "metadata": {
        "colab": {
          "base_uri": "https://localhost:8080/"
        },
        "id": "0lEDmysOwAIy",
        "outputId": "258d25bd-f41e-4c05-b255-35f0c75e981b"
      },
      "execution_count": null,
      "outputs": [
        {
          "output_type": "stream",
          "name": "stdout",
          "text": [
            "openjdk-8-jdk-headless is already the newest version (8u312-b07-0ubuntu1~18.04).\n",
            "The following package was automatically installed and is no longer required:\n",
            "  libnvidia-common-460\n",
            "Use 'apt autoremove' to remove it.\n",
            "0 upgraded, 0 newly installed, 0 to remove and 42 not upgraded.\n"
          ]
        }
      ]
    },
    {
      "cell_type": "code",
      "source": [
        "import os\n",
        "os.environ[\"JAVA_HOME\"] = \"/usr/lib/jvm/java-8-openjdk-amd64\""
      ],
      "metadata": {
        "id": "awCmhuwfs39l"
      },
      "execution_count": null,
      "outputs": []
    },
    {
      "cell_type": "code",
      "source": [
        "from pydrive.auth import GoogleAuth\n",
        "from pydrive.drive import GoogleDrive\n",
        "from google.colab import auth\n",
        "from oauth2client.client import GoogleCredentials\n",
        "from pyspark.sql import *\n",
        "from pyspark.sql.functions import *\n",
        "from pyspark import SparkContext\n",
        "from pyspark.sql import SQLContext\n",
        "import pandas as pd\n",
        "import re"
      ],
      "metadata": {
        "id": "zWtZpVK6s78m"
      },
      "execution_count": null,
      "outputs": []
    },
    {
      "cell_type": "code",
      "source": [
        "auth.authenticate_user()\n",
        "gauth = GoogleAuth()\n",
        "gauth.credentials = GoogleCredentials.get_application_default()\n",
        "drive = GoogleDrive(gauth)"
      ],
      "metadata": {
        "id": "e0j-OlJus_Pe"
      },
      "execution_count": null,
      "outputs": []
    },
    {
      "cell_type": "code",
      "source": [
        "downloaded = drive.CreateFile({'id':\"10J1v6eKps-2xslC-X4voNOZ0a3zLNoF0\"})   # replace the id with id of file you want to access\n",
        "downloaded.GetContentFile('tip.csv') "
      ],
      "metadata": {
        "id": "tovDU93MtWAj"
      },
      "execution_count": null,
      "outputs": []
    },
    {
      "cell_type": "code",
      "source": [
        "# create the Spark Session\n",
        "spark = SparkSession.builder.getOrCreate()\n",
        "\n",
        "# create the Spark Context\n",
        "sc = spark.sparkContext"
      ],
      "metadata": {
        "id": "LJOYzM2Ztpd0"
      },
      "execution_count": null,
      "outputs": []
    },
    {
      "cell_type": "code",
      "source": [
        "sqlContext = SQLContext(sc)\n",
        "df = sqlContext.read.csv('tip.csv', header=True).select(['text']).dropna()\n",
        "rdd = df.rdd"
      ],
      "metadata": {
        "colab": {
          "base_uri": "https://localhost:8080/"
        },
        "id": "UR4b_Ng02kQk",
        "outputId": "76a9b482-c236-4d2c-8e11-27b09c090d18"
      },
      "execution_count": null,
      "outputs": [
        {
          "output_type": "stream",
          "name": "stderr",
          "text": [
            "/usr/local/lib/python3.7/dist-packages/pyspark/sql/context.py:79: FutureWarning: Deprecated in 3.0.0. Use SparkSession.builder.getOrCreate() instead.\n",
            "  FutureWarning\n"
          ]
        }
      ]
    },
    {
      "cell_type": "markdown",
      "source": [
        "# Calculo"
      ],
      "metadata": {
        "id": "-qoBW7HR3JXp"
      }
    },
    {
      "cell_type": "markdown",
      "source": [
        "Defino una funcion para calcular 3-uplas de un string"
      ],
      "metadata": {
        "id": "JdXcK4_ugR7F"
      }
    },
    {
      "cell_type": "code",
      "source": [
        "def tresUplas(s):\n",
        "  l = s.split()\n",
        "  r = []\n",
        "  for i in range(len(l) - 2):\n",
        "    r.append(\"{} {} {}\".format(l[i], l[i+1], l[i+2]))\n",
        "  return r"
      ],
      "metadata": {
        "id": "S0Gc0CNodC-K"
      },
      "execution_count": null,
      "outputs": []
    },
    {
      "cell_type": "markdown",
      "source": [
        "1- Le saco los simbolos especiales a las reviews\n",
        "\n",
        "2- Reemplazo la coma por un espacio\n",
        "\n",
        "3- Aplico un flatMap agrupando de a 3 \n",
        "\n",
        "4- Le agrego un 1 a cada registro para poder sumar\n",
        "\n",
        "5- Hago un reduceByKey para poder sumar las ocurrencias de cada upla \n",
        "\n",
        "6- Hago un reduce y obtengo el registro mas alto\n"
      ],
      "metadata": {
        "id": "6Yb5eSyyqkVW"
      }
    },
    {
      "cell_type": "code",
      "source": [
        "rdd = rdd.map(lambda x: re.sub(\"[$?@&!.']\", \"\", x[0].lower()))\\\n",
        "         .map(lambda x: x.replace(\",\", \" \"))\\\n",
        "         .flatMap(lambda x: tresUplas(x))\\\n",
        "         .map(lambda x: (x,1))\\\n",
        "         .reduceByKey(lambda x,y: x+y)"
      ],
      "metadata": {
        "id": "-PbW4yDtTeKq"
      },
      "execution_count": null,
      "outputs": []
    },
    {
      "cell_type": "code",
      "source": [
        "moreFrequently = rdd.reduce(lambda x,y : x if x[1]>y[1] else y)"
      ],
      "metadata": {
        "id": "d4RW7jjIDsgH"
      },
      "execution_count": null,
      "outputs": []
    },
    {
      "cell_type": "code",
      "source": [
        "moreFrequently\n"
      ],
      "metadata": {
        "colab": {
          "base_uri": "https://localhost:8080/"
        },
        "id": "q__VlFprPDmX",
        "outputId": "bc842208-0d48-494c-80ec-2d58e100b0db"
      },
      "execution_count": null,
      "outputs": [
        {
          "output_type": "execute_result",
          "data": {
            "text/plain": [
              "('love this place', 9765)"
            ]
          },
          "metadata": {},
          "execution_count": 12
        }
      ]
    }
  ]
}